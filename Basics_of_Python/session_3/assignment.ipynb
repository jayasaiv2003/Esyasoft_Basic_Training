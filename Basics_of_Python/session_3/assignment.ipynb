{
 "cells": [
  {
   "cell_type": "code",
   "execution_count": 1,
   "id": "407c487a",
   "metadata": {},
   "outputs": [],
   "source": [
    "points=[(4,5),(4,6), (7,3),(4,3)]"
   ]
  },
  {
   "cell_type": "code",
   "execution_count": 3,
   "id": "783a88bd",
   "metadata": {},
   "outputs": [
    {
     "name": "stdout",
     "output_type": "stream",
     "text": [
      "The Y Coordinate is greater than or equal to X Coordinate for point (X,Y)\n",
      "The Y Coordinate is greater than or equal to X Coordinate for point (X,Y)\n",
      "The X Coordinate is greater than Y Coordinate for point (X,Y)\n",
      "The X Coordinate is greater than Y Coordinate for point (X,Y)\n"
     ]
    }
   ],
   "source": [
    "for i in points:\n",
    "    if(i[0]>i[1]):\n",
    "        print(\"The X Coordinate is greater than Y Coordinate for point (X,Y)\")\n",
    "    else:\n",
    "        print(\"The Y Coordinate is greater than or equal to X Coordinate for point (X,Y)\")"
   ]
  }
 ],
 "metadata": {
  "kernelspec": {
   "display_name": "Python 3",
   "language": "python",
   "name": "python3"
  },
  "language_info": {
   "codemirror_mode": {
    "name": "ipython",
    "version": 3
   },
   "file_extension": ".py",
   "mimetype": "text/x-python",
   "name": "python",
   "nbconvert_exporter": "python",
   "pygments_lexer": "ipython3",
   "version": "3.13.7"
  }
 },
 "nbformat": 4,
 "nbformat_minor": 5
}
