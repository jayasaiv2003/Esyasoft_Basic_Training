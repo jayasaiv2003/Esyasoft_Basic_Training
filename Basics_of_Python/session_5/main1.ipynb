{
 "cells": [
  {
   "cell_type": "code",
   "execution_count": 6,
   "id": "394f1851",
   "metadata": {},
   "outputs": [],
   "source": [
    "import numpy as np \n",
    "import pandas as pd \n",
    "df=pd.read_csv(\"/Esyasoft_Basic_Training/Basics_of_Python/session_5/datasets.csv\")"
   ]
  },
  {
   "cell_type": "code",
   "execution_count": 7,
   "id": "11311c92",
   "metadata": {},
   "outputs": [
    {
     "data": {
      "text/html": [
       "<div>\n",
       "<style scoped>\n",
       "    .dataframe tbody tr th:only-of-type {\n",
       "        vertical-align: middle;\n",
       "    }\n",
       "\n",
       "    .dataframe tbody tr th {\n",
       "        vertical-align: top;\n",
       "    }\n",
       "\n",
       "    .dataframe thead th {\n",
       "        text-align: right;\n",
       "    }\n",
       "</style>\n",
       "<table border=\"1\" class=\"dataframe\">\n",
       "  <thead>\n",
       "    <tr style=\"text-align: right;\">\n",
       "      <th></th>\n",
       "      <th>datasetName</th>\n",
       "      <th>about</th>\n",
       "      <th>link</th>\n",
       "      <th>categoryName</th>\n",
       "      <th>cloud</th>\n",
       "      <th>vintage</th>\n",
       "    </tr>\n",
       "  </thead>\n",
       "  <tbody>\n",
       "    <tr>\n",
       "      <th>0</th>\n",
       "      <td>Microbiome Project</td>\n",
       "      <td>American Gut (Microbiome Project)</td>\n",
       "      <td>https://github.com/biocore/American-Gut</td>\n",
       "      <td>Biology</td>\n",
       "      <td>GitHub</td>\n",
       "      <td>NaN</td>\n",
       "    </tr>\n",
       "    <tr>\n",
       "      <th>1</th>\n",
       "      <td>GloBI</td>\n",
       "      <td>Global Biotic Interactions (GloBI)</td>\n",
       "      <td>https://github.com/jhpoelen/eol-globi-data/wik...</td>\n",
       "      <td>Biology</td>\n",
       "      <td>GitHub</td>\n",
       "      <td>NaN</td>\n",
       "    </tr>\n",
       "    <tr>\n",
       "      <th>2</th>\n",
       "      <td>Global Climate</td>\n",
       "      <td>Global Climate Data Since 1929</td>\n",
       "      <td>http://en.tutiempo.net/climate</td>\n",
       "      <td>Climate/Weather</td>\n",
       "      <td>NaN</td>\n",
       "      <td>1929.0</td>\n",
       "    </tr>\n",
       "    <tr>\n",
       "      <th>3</th>\n",
       "      <td>CommonCraw 2012</td>\n",
       "      <td>3.5B Web Pages from CommonCraw 2012</td>\n",
       "      <td>http://www.bigdatanews.com/profiles/blogs/big-...</td>\n",
       "      <td>Computer Networks</td>\n",
       "      <td>NaN</td>\n",
       "      <td>2012.0</td>\n",
       "    </tr>\n",
       "    <tr>\n",
       "      <th>4</th>\n",
       "      <td>Indiana Webclicks</td>\n",
       "      <td>53.5B Web clicks of 100K users in Indiana Univ.</td>\n",
       "      <td>http://cnets.indiana.edu/groups/nan/webtraffic...</td>\n",
       "      <td>Computer Networks</td>\n",
       "      <td>NaN</td>\n",
       "      <td>NaN</td>\n",
       "    </tr>\n",
       "  </tbody>\n",
       "</table>\n",
       "</div>"
      ],
      "text/plain": [
       "          datasetName                                            about  \\\n",
       "0  Microbiome Project                American Gut (Microbiome Project)   \n",
       "1               GloBI               Global Biotic Interactions (GloBI)   \n",
       "2      Global Climate                   Global Climate Data Since 1929   \n",
       "3     CommonCraw 2012              3.5B Web Pages from CommonCraw 2012   \n",
       "4   Indiana Webclicks  53.5B Web clicks of 100K users in Indiana Univ.   \n",
       "\n",
       "                                                link       categoryName  \\\n",
       "0            https://github.com/biocore/American-Gut            Biology   \n",
       "1  https://github.com/jhpoelen/eol-globi-data/wik...            Biology   \n",
       "2                     http://en.tutiempo.net/climate    Climate/Weather   \n",
       "3  http://www.bigdatanews.com/profiles/blogs/big-...  Computer Networks   \n",
       "4  http://cnets.indiana.edu/groups/nan/webtraffic...  Computer Networks   \n",
       "\n",
       "    cloud  vintage  \n",
       "0  GitHub      NaN  \n",
       "1  GitHub      NaN  \n",
       "2     NaN   1929.0  \n",
       "3     NaN   2012.0  \n",
       "4     NaN      NaN  "
      ]
     },
     "execution_count": 7,
     "metadata": {},
     "output_type": "execute_result"
    }
   ],
   "source": [
    "df.head()"
   ]
  },
  {
   "cell_type": "code",
   "execution_count": 8,
   "id": "735046a6",
   "metadata": {},
   "outputs": [
    {
     "data": {
      "text/plain": [
       "datasetName      object\n",
       "about            object\n",
       "link             object\n",
       "categoryName     object\n",
       "cloud            object\n",
       "vintage         float64\n",
       "dtype: object"
      ]
     },
     "execution_count": 8,
     "metadata": {},
     "output_type": "execute_result"
    }
   ],
   "source": [
    "df.dtypes"
   ]
  },
  {
   "cell_type": "markdown",
   "id": "98b70b81",
   "metadata": {},
   "source": [
    "dropping colums \n"
   ]
  },
  {
   "cell_type": "code",
   "execution_count": 9,
   "id": "1c8fc1dc",
   "metadata": {},
   "outputs": [],
   "source": [
    "df=df.drop(['vintage'], axis=1)"
   ]
  },
  {
   "cell_type": "code",
   "execution_count": 10,
   "id": "c9c87e29",
   "metadata": {},
   "outputs": [
    {
     "data": {
      "text/html": [
       "<div>\n",
       "<style scoped>\n",
       "    .dataframe tbody tr th:only-of-type {\n",
       "        vertical-align: middle;\n",
       "    }\n",
       "\n",
       "    .dataframe tbody tr th {\n",
       "        vertical-align: top;\n",
       "    }\n",
       "\n",
       "    .dataframe thead th {\n",
       "        text-align: right;\n",
       "    }\n",
       "</style>\n",
       "<table border=\"1\" class=\"dataframe\">\n",
       "  <thead>\n",
       "    <tr style=\"text-align: right;\">\n",
       "      <th></th>\n",
       "      <th>datasetName</th>\n",
       "      <th>about</th>\n",
       "      <th>link</th>\n",
       "      <th>categoryName</th>\n",
       "      <th>cloud</th>\n",
       "    </tr>\n",
       "  </thead>\n",
       "  <tbody>\n",
       "    <tr>\n",
       "      <th>0</th>\n",
       "      <td>Microbiome Project</td>\n",
       "      <td>American Gut (Microbiome Project)</td>\n",
       "      <td>https://github.com/biocore/American-Gut</td>\n",
       "      <td>Biology</td>\n",
       "      <td>GitHub</td>\n",
       "    </tr>\n",
       "    <tr>\n",
       "      <th>1</th>\n",
       "      <td>GloBI</td>\n",
       "      <td>Global Biotic Interactions (GloBI)</td>\n",
       "      <td>https://github.com/jhpoelen/eol-globi-data/wik...</td>\n",
       "      <td>Biology</td>\n",
       "      <td>GitHub</td>\n",
       "    </tr>\n",
       "    <tr>\n",
       "      <th>2</th>\n",
       "      <td>Global Climate</td>\n",
       "      <td>Global Climate Data Since 1929</td>\n",
       "      <td>http://en.tutiempo.net/climate</td>\n",
       "      <td>Climate/Weather</td>\n",
       "      <td>NaN</td>\n",
       "    </tr>\n",
       "    <tr>\n",
       "      <th>3</th>\n",
       "      <td>CommonCraw 2012</td>\n",
       "      <td>3.5B Web Pages from CommonCraw 2012</td>\n",
       "      <td>http://www.bigdatanews.com/profiles/blogs/big-...</td>\n",
       "      <td>Computer Networks</td>\n",
       "      <td>NaN</td>\n",
       "    </tr>\n",
       "    <tr>\n",
       "      <th>4</th>\n",
       "      <td>Indiana Webclicks</td>\n",
       "      <td>53.5B Web clicks of 100K users in Indiana Univ.</td>\n",
       "      <td>http://cnets.indiana.edu/groups/nan/webtraffic...</td>\n",
       "      <td>Computer Networks</td>\n",
       "      <td>NaN</td>\n",
       "    </tr>\n",
       "  </tbody>\n",
       "</table>\n",
       "</div>"
      ],
      "text/plain": [
       "          datasetName                                            about  \\\n",
       "0  Microbiome Project                American Gut (Microbiome Project)   \n",
       "1               GloBI               Global Biotic Interactions (GloBI)   \n",
       "2      Global Climate                   Global Climate Data Since 1929   \n",
       "3     CommonCraw 2012              3.5B Web Pages from CommonCraw 2012   \n",
       "4   Indiana Webclicks  53.5B Web clicks of 100K users in Indiana Univ.   \n",
       "\n",
       "                                                link       categoryName  \\\n",
       "0            https://github.com/biocore/American-Gut            Biology   \n",
       "1  https://github.com/jhpoelen/eol-globi-data/wik...            Biology   \n",
       "2                     http://en.tutiempo.net/climate    Climate/Weather   \n",
       "3  http://www.bigdatanews.com/profiles/blogs/big-...  Computer Networks   \n",
       "4  http://cnets.indiana.edu/groups/nan/webtraffic...  Computer Networks   \n",
       "\n",
       "    cloud  \n",
       "0  GitHub  \n",
       "1  GitHub  \n",
       "2     NaN  \n",
       "3     NaN  \n",
       "4     NaN  "
      ]
     },
     "execution_count": 10,
     "metadata": {},
     "output_type": "execute_result"
    }
   ],
   "source": [
    "df.head()"
   ]
  },
  {
   "cell_type": "markdown",
   "id": "26df0730",
   "metadata": {},
   "source": [
    "# Renaming the colums "
   ]
  },
  {
   "cell_type": "code",
   "execution_count": 11,
   "id": "fc084125",
   "metadata": {},
   "outputs": [],
   "source": [
    "df=df.rename(columns={\"about\":\"About\"})"
   ]
  },
  {
   "cell_type": "code",
   "execution_count": 12,
   "id": "345ff101",
   "metadata": {},
   "outputs": [
    {
     "data": {
      "text/html": [
       "<div>\n",
       "<style scoped>\n",
       "    .dataframe tbody tr th:only-of-type {\n",
       "        vertical-align: middle;\n",
       "    }\n",
       "\n",
       "    .dataframe tbody tr th {\n",
       "        vertical-align: top;\n",
       "    }\n",
       "\n",
       "    .dataframe thead th {\n",
       "        text-align: right;\n",
       "    }\n",
       "</style>\n",
       "<table border=\"1\" class=\"dataframe\">\n",
       "  <thead>\n",
       "    <tr style=\"text-align: right;\">\n",
       "      <th></th>\n",
       "      <th>datasetName</th>\n",
       "      <th>About</th>\n",
       "      <th>link</th>\n",
       "      <th>categoryName</th>\n",
       "      <th>cloud</th>\n",
       "    </tr>\n",
       "  </thead>\n",
       "  <tbody>\n",
       "    <tr>\n",
       "      <th>0</th>\n",
       "      <td>Microbiome Project</td>\n",
       "      <td>American Gut (Microbiome Project)</td>\n",
       "      <td>https://github.com/biocore/American-Gut</td>\n",
       "      <td>Biology</td>\n",
       "      <td>GitHub</td>\n",
       "    </tr>\n",
       "    <tr>\n",
       "      <th>1</th>\n",
       "      <td>GloBI</td>\n",
       "      <td>Global Biotic Interactions (GloBI)</td>\n",
       "      <td>https://github.com/jhpoelen/eol-globi-data/wik...</td>\n",
       "      <td>Biology</td>\n",
       "      <td>GitHub</td>\n",
       "    </tr>\n",
       "    <tr>\n",
       "      <th>2</th>\n",
       "      <td>Global Climate</td>\n",
       "      <td>Global Climate Data Since 1929</td>\n",
       "      <td>http://en.tutiempo.net/climate</td>\n",
       "      <td>Climate/Weather</td>\n",
       "      <td>NaN</td>\n",
       "    </tr>\n",
       "    <tr>\n",
       "      <th>3</th>\n",
       "      <td>CommonCraw 2012</td>\n",
       "      <td>3.5B Web Pages from CommonCraw 2012</td>\n",
       "      <td>http://www.bigdatanews.com/profiles/blogs/big-...</td>\n",
       "      <td>Computer Networks</td>\n",
       "      <td>NaN</td>\n",
       "    </tr>\n",
       "    <tr>\n",
       "      <th>4</th>\n",
       "      <td>Indiana Webclicks</td>\n",
       "      <td>53.5B Web clicks of 100K users in Indiana Univ.</td>\n",
       "      <td>http://cnets.indiana.edu/groups/nan/webtraffic...</td>\n",
       "      <td>Computer Networks</td>\n",
       "      <td>NaN</td>\n",
       "    </tr>\n",
       "  </tbody>\n",
       "</table>\n",
       "</div>"
      ],
      "text/plain": [
       "          datasetName                                            About  \\\n",
       "0  Microbiome Project                American Gut (Microbiome Project)   \n",
       "1               GloBI               Global Biotic Interactions (GloBI)   \n",
       "2      Global Climate                   Global Climate Data Since 1929   \n",
       "3     CommonCraw 2012              3.5B Web Pages from CommonCraw 2012   \n",
       "4   Indiana Webclicks  53.5B Web clicks of 100K users in Indiana Univ.   \n",
       "\n",
       "                                                link       categoryName  \\\n",
       "0            https://github.com/biocore/American-Gut            Biology   \n",
       "1  https://github.com/jhpoelen/eol-globi-data/wik...            Biology   \n",
       "2                     http://en.tutiempo.net/climate    Climate/Weather   \n",
       "3  http://www.bigdatanews.com/profiles/blogs/big-...  Computer Networks   \n",
       "4  http://cnets.indiana.edu/groups/nan/webtraffic...  Computer Networks   \n",
       "\n",
       "    cloud  \n",
       "0  GitHub  \n",
       "1  GitHub  \n",
       "2     NaN  \n",
       "3     NaN  \n",
       "4     NaN  "
      ]
     },
     "execution_count": 12,
     "metadata": {},
     "output_type": "execute_result"
    }
   ],
   "source": [
    "df.head()"
   ]
  },
  {
   "cell_type": "markdown",
   "id": "a772b121",
   "metadata": {},
   "source": [
    "To check the info"
   ]
  },
  {
   "cell_type": "code",
   "execution_count": 13,
   "id": "541281e8",
   "metadata": {},
   "outputs": [
    {
     "name": "stdout",
     "output_type": "stream",
     "text": [
      "<class 'pandas.core.frame.DataFrame'>\n",
      "RangeIndex: 61 entries, 0 to 60\n",
      "Data columns (total 5 columns):\n",
      " #   Column        Non-Null Count  Dtype \n",
      "---  ------        --------------  ----- \n",
      " 0   datasetName   61 non-null     object\n",
      " 1   About         61 non-null     object\n",
      " 2   link          61 non-null     object\n",
      " 3   categoryName  61 non-null     object\n",
      " 4   cloud         24 non-null     object\n",
      "dtypes: object(5)\n",
      "memory usage: 2.5+ KB\n"
     ]
    }
   ],
   "source": [
    "df.info()"
   ]
  },
  {
   "cell_type": "code",
   "execution_count": 14,
   "id": "cfde1837",
   "metadata": {},
   "outputs": [
    {
     "data": {
      "text/html": [
       "<div>\n",
       "<style scoped>\n",
       "    .dataframe tbody tr th:only-of-type {\n",
       "        vertical-align: middle;\n",
       "    }\n",
       "\n",
       "    .dataframe tbody tr th {\n",
       "        vertical-align: top;\n",
       "    }\n",
       "\n",
       "    .dataframe thead th {\n",
       "        text-align: right;\n",
       "    }\n",
       "</style>\n",
       "<table border=\"1\" class=\"dataframe\">\n",
       "  <thead>\n",
       "    <tr style=\"text-align: right;\">\n",
       "      <th></th>\n",
       "      <th>datasetName</th>\n",
       "      <th>About</th>\n",
       "      <th>link</th>\n",
       "      <th>categoryName</th>\n",
       "      <th>cloud</th>\n",
       "    </tr>\n",
       "  </thead>\n",
       "  <tbody>\n",
       "    <tr>\n",
       "      <th>count</th>\n",
       "      <td>61</td>\n",
       "      <td>61</td>\n",
       "      <td>61</td>\n",
       "      <td>61</td>\n",
       "      <td>24</td>\n",
       "    </tr>\n",
       "    <tr>\n",
       "      <th>unique</th>\n",
       "      <td>61</td>\n",
       "      <td>61</td>\n",
       "      <td>61</td>\n",
       "      <td>19</td>\n",
       "      <td>2</td>\n",
       "    </tr>\n",
       "    <tr>\n",
       "      <th>top</th>\n",
       "      <td>Microbiome Project</td>\n",
       "      <td>American Gut (Microbiome Project)</td>\n",
       "      <td>https://github.com/biocore/American-Gut</td>\n",
       "      <td>Social Networks</td>\n",
       "      <td>GitHub</td>\n",
       "    </tr>\n",
       "    <tr>\n",
       "      <th>freq</th>\n",
       "      <td>1</td>\n",
       "      <td>1</td>\n",
       "      <td>1</td>\n",
       "      <td>10</td>\n",
       "      <td>21</td>\n",
       "    </tr>\n",
       "  </tbody>\n",
       "</table>\n",
       "</div>"
      ],
      "text/plain": [
       "               datasetName                              About  \\\n",
       "count                   61                                 61   \n",
       "unique                  61                                 61   \n",
       "top     Microbiome Project  American Gut (Microbiome Project)   \n",
       "freq                     1                                  1   \n",
       "\n",
       "                                           link     categoryName   cloud  \n",
       "count                                        61               61      24  \n",
       "unique                                       61               19       2  \n",
       "top     https://github.com/biocore/American-Gut  Social Networks  GitHub  \n",
       "freq                                          1               10      21  "
      ]
     },
     "execution_count": 14,
     "metadata": {},
     "output_type": "execute_result"
    }
   ],
   "source": [
    "df.describe()"
   ]
  },
  {
   "cell_type": "code",
   "execution_count": 16,
   "id": "c419b640",
   "metadata": {},
   "outputs": [],
   "source": [
    "df=pd.read_csv(\"/Esyasoft_Basic_Training/Basics_of_Python/session_5/datasets.csv\")"
   ]
  },
  {
   "cell_type": "code",
   "execution_count": 17,
   "id": "18013d5f",
   "metadata": {},
   "outputs": [
    {
     "data": {
      "text/html": [
       "<div>\n",
       "<style scoped>\n",
       "    .dataframe tbody tr th:only-of-type {\n",
       "        vertical-align: middle;\n",
       "    }\n",
       "\n",
       "    .dataframe tbody tr th {\n",
       "        vertical-align: top;\n",
       "    }\n",
       "\n",
       "    .dataframe thead th {\n",
       "        text-align: right;\n",
       "    }\n",
       "</style>\n",
       "<table border=\"1\" class=\"dataframe\">\n",
       "  <thead>\n",
       "    <tr style=\"text-align: right;\">\n",
       "      <th></th>\n",
       "      <th>vintage</th>\n",
       "    </tr>\n",
       "  </thead>\n",
       "  <tbody>\n",
       "    <tr>\n",
       "      <th>count</th>\n",
       "      <td>31.000000</td>\n",
       "    </tr>\n",
       "    <tr>\n",
       "      <th>mean</th>\n",
       "      <td>2000.677419</td>\n",
       "    </tr>\n",
       "    <tr>\n",
       "      <th>std</th>\n",
       "      <td>24.436840</td>\n",
       "    </tr>\n",
       "    <tr>\n",
       "      <th>min</th>\n",
       "      <td>1920.000000</td>\n",
       "    </tr>\n",
       "    <tr>\n",
       "      <th>25%</th>\n",
       "      <td>2006.500000</td>\n",
       "    </tr>\n",
       "    <tr>\n",
       "      <th>50%</th>\n",
       "      <td>2009.000000</td>\n",
       "    </tr>\n",
       "    <tr>\n",
       "      <th>75%</th>\n",
       "      <td>2012.000000</td>\n",
       "    </tr>\n",
       "    <tr>\n",
       "      <th>max</th>\n",
       "      <td>2016.000000</td>\n",
       "    </tr>\n",
       "  </tbody>\n",
       "</table>\n",
       "</div>"
      ],
      "text/plain": [
       "           vintage\n",
       "count    31.000000\n",
       "mean   2000.677419\n",
       "std      24.436840\n",
       "min    1920.000000\n",
       "25%    2006.500000\n",
       "50%    2009.000000\n",
       "75%    2012.000000\n",
       "max    2016.000000"
      ]
     },
     "execution_count": 17,
     "metadata": {},
     "output_type": "execute_result"
    }
   ],
   "source": [
    "df.describe()"
   ]
  },
  {
   "cell_type": "code",
   "execution_count": 18,
   "id": "2274fdab",
   "metadata": {},
   "outputs": [
    {
     "data": {
      "text/plain": [
       "(61, 6)"
      ]
     },
     "execution_count": 18,
     "metadata": {},
     "output_type": "execute_result"
    }
   ],
   "source": [
    "df.shape"
   ]
  },
  {
   "cell_type": "code",
   "execution_count": 19,
   "id": "36ecb256",
   "metadata": {},
   "outputs": [],
   "source": [
    "duplicated_rows_df = df[df.duplicated()]"
   ]
  },
  {
   "cell_type": "code",
   "execution_count": 20,
   "id": "91326697",
   "metadata": {},
   "outputs": [
    {
     "name": "stdout",
     "output_type": "stream",
     "text": [
      "(0, 6)\n"
     ]
    }
   ],
   "source": [
    "print(duplicated_rows_df.shape)"
   ]
  },
  {
   "cell_type": "code",
   "execution_count": 21,
   "id": "84c85c31",
   "metadata": {},
   "outputs": [
    {
     "data": {
      "text/plain": [
       "datasetName     61\n",
       "about           61\n",
       "link            61\n",
       "categoryName    61\n",
       "cloud           24\n",
       "vintage         31\n",
       "dtype: int64"
      ]
     },
     "execution_count": 21,
     "metadata": {},
     "output_type": "execute_result"
    }
   ],
   "source": [
    "df.count()"
   ]
  },
  {
   "cell_type": "code",
   "execution_count": 22,
   "id": "12e27708",
   "metadata": {},
   "outputs": [],
   "source": [
    "df=df.drop_duplicates()"
   ]
  },
  {
   "cell_type": "code",
   "execution_count": 23,
   "id": "d494a3d0",
   "metadata": {},
   "outputs": [
    {
     "data": {
      "text/plain": [
       "(61, 6)"
      ]
     },
     "execution_count": 23,
     "metadata": {},
     "output_type": "execute_result"
    }
   ],
   "source": [
    "df.shape"
   ]
  },
  {
   "cell_type": "markdown",
   "id": "e2e41308",
   "metadata": {},
   "source": [
    "7.Dropping the missing or null values"
   ]
  },
  {
   "cell_type": "code",
   "execution_count": 24,
   "id": "aa6927e7",
   "metadata": {},
   "outputs": [
    {
     "name": "stdout",
     "output_type": "stream",
     "text": [
      "datasetName      0\n",
      "about            0\n",
      "link             0\n",
      "categoryName     0\n",
      "cloud           37\n",
      "vintage         30\n",
      "dtype: int64\n"
     ]
    }
   ],
   "source": [
    "print(df.isnull().sum())"
   ]
  },
  {
   "cell_type": "code",
   "execution_count": 25,
   "id": "0d8cbb2a",
   "metadata": {},
   "outputs": [],
   "source": [
    "df=df.dropna()"
   ]
  },
  {
   "cell_type": "code",
   "execution_count": 26,
   "id": "fa276954",
   "metadata": {},
   "outputs": [
    {
     "data": {
      "text/plain": [
       "(2, 6)"
      ]
     },
     "execution_count": 26,
     "metadata": {},
     "output_type": "execute_result"
    }
   ],
   "source": [
    "df.shape"
   ]
  },
  {
   "cell_type": "code",
   "execution_count": 27,
   "id": "d0c1d388",
   "metadata": {},
   "outputs": [
    {
     "name": "stdout",
     "output_type": "stream",
     "text": [
      "datasetName     0\n",
      "about           0\n",
      "link            0\n",
      "categoryName    0\n",
      "cloud           0\n",
      "vintage         0\n",
      "dtype: int64\n"
     ]
    }
   ],
   "source": [
    "print(df.isnull().sum())"
   ]
  },
  {
   "cell_type": "code",
   "execution_count": 30,
   "id": "07bd9e67",
   "metadata": {},
   "outputs": [
    {
     "data": {
      "text/html": [
       "<div>\n",
       "<style scoped>\n",
       "    .dataframe tbody tr th:only-of-type {\n",
       "        vertical-align: middle;\n",
       "    }\n",
       "\n",
       "    .dataframe tbody tr th {\n",
       "        vertical-align: top;\n",
       "    }\n",
       "\n",
       "    .dataframe thead th {\n",
       "        text-align: right;\n",
       "    }\n",
       "</style>\n",
       "<table border=\"1\" class=\"dataframe\">\n",
       "  <thead>\n",
       "    <tr style=\"text-align: right;\">\n",
       "      <th></th>\n",
       "      <th>datasetName</th>\n",
       "      <th>about</th>\n",
       "      <th>link</th>\n",
       "      <th>categoryName</th>\n",
       "      <th>cloud</th>\n",
       "      <th>vintage</th>\n",
       "    </tr>\n",
       "  </thead>\n",
       "  <tbody>\n",
       "    <tr>\n",
       "      <th>32</th>\n",
       "      <td>FBI Hate Crime 2013</td>\n",
       "      <td>FBI Hate Crime 2013 - aggregated data</td>\n",
       "      <td>https://github.com/emorisse/FBI-Hate-Crime-Sta...</td>\n",
       "      <td>Social Sciences</td>\n",
       "      <td>GitHub</td>\n",
       "      <td>2013.0</td>\n",
       "    </tr>\n",
       "    <tr>\n",
       "      <th>41</th>\n",
       "      <td>NYC Uber</td>\n",
       "      <td>NYC Uber trip data April 2014 to September 2014</td>\n",
       "      <td>https://github.com/fivethirtyeight/uber-tlc-fo...</td>\n",
       "      <td>Transportation</td>\n",
       "      <td>GitHub</td>\n",
       "      <td>2014.0</td>\n",
       "    </tr>\n",
       "  </tbody>\n",
       "</table>\n",
       "</div>"
      ],
      "text/plain": [
       "            datasetName                                            about  \\\n",
       "32  FBI Hate Crime 2013            FBI Hate Crime 2013 - aggregated data   \n",
       "41             NYC Uber  NYC Uber trip data April 2014 to September 2014   \n",
       "\n",
       "                                                 link     categoryName  \\\n",
       "32  https://github.com/emorisse/FBI-Hate-Crime-Sta...  Social Sciences   \n",
       "41  https://github.com/fivethirtyeight/uber-tlc-fo...   Transportation   \n",
       "\n",
       "     cloud  vintage  \n",
       "32  GitHub   2013.0  \n",
       "41  GitHub   2014.0  "
      ]
     },
     "execution_count": 30,
     "metadata": {},
     "output_type": "execute_result"
    }
   ],
   "source": [
    "df"
   ]
  }
 ],
 "metadata": {
  "kernelspec": {
   "display_name": "Python 3",
   "language": "python",
   "name": "python3"
  },
  "language_info": {
   "codemirror_mode": {
    "name": "ipython",
    "version": 3
   },
   "file_extension": ".py",
   "mimetype": "text/x-python",
   "name": "python",
   "nbconvert_exporter": "python",
   "pygments_lexer": "ipython3",
   "version": "3.13.7"
  }
 },
 "nbformat": 4,
 "nbformat_minor": 5
}
